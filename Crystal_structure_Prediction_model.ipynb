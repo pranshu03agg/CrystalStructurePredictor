{
  "nbformat": 4,
  "nbformat_minor": 0,
  "metadata": {
    "colab": {
      "provenance": [],
      "authorship_tag": "ABX9TyMhtsukXJpptuu7I17GoFru"
    },
    "kernelspec": {
      "name": "python3",
      "display_name": "Python 3"
    },
    "language_info": {
      "name": "python"
    }
  },
  "cells": [
    {
      "cell_type": "markdown",
      "source": [
        "Importing of all Libraries"
      ],
      "metadata": {
        "id": "7dIJQw5puxdS"
      }
    },
    {
      "cell_type": "code",
      "execution_count": 25,
      "metadata": {
        "id": "Z71PQVOymBgo"
      },
      "outputs": [],
      "source": [
        "import tensorflow as tf\n",
        "import pandas as pd\n",
        "import numpy as np\n",
        "import sklearn\n",
        "import keras\n",
        "from tensorflow.keras import Sequential\n",
        "from tensorflow.keras.layers import Dense"
      ]
    },
    {
      "cell_type": "markdown",
      "source": [
        "Reading and creating of Dataframe"
      ],
      "metadata": {
        "id": "d5MqigXUuwI7"
      }
    },
    {
      "cell_type": "code",
      "source": [
        "df=pd.read_excel('/content/Project.xlsx')\n",
        "X=df.iloc[:,1:5].values\n",
        "Y=df.iloc[:,5].values"
      ],
      "metadata": {
        "id": "bcT3CoijmEJc"
      },
      "execution_count": 26,
      "outputs": []
    },
    {
      "cell_type": "markdown",
      "source": [
        "Data Preprocessig"
      ],
      "metadata": {
        "id": "Q1tQVeCfu9yU"
      }
    },
    {
      "cell_type": "code",
      "source": [
        "from sklearn.preprocessing  import LabelEncoder\n",
        "\n",
        "le = LabelEncoder()\n",
        "le.fit(Y)\n",
        "LabelEncoder()\n",
        "list(le.classes_)\n",
        "trans=le.transform(Y)\n",
        "m=trans\n",
        "print(trans)\n",
        "ans=list(le.inverse_transform(m))\n",
        "print(ans)\n"
      ],
      "metadata": {
        "colab": {
          "base_uri": "https://localhost:8080/"
        },
        "id": "66zGWwHsmJgQ",
        "outputId": "61c022ad-3a4b-43fc-dcff-555f605c77dd"
      },
      "execution_count": 38,
      "outputs": [
        {
          "output_type": "stream",
          "name": "stdout",
          "text": [
            "[1 1 1 3 0 2 3 2 1 2 2 0 1 0 3 1 2 3 1 0 2 0 0 1 1 1 1 3 3 0 2 0 2 2 2]\n",
            "['fcc', 'fcc', 'fcc', 'others', 'bcc', 'hcp', 'others', 'hcp', 'fcc', 'hcp', 'hcp', 'bcc', 'fcc', 'bcc', 'others', 'fcc', 'hcp', 'others', 'fcc', 'bcc', 'hcp', 'bcc', 'bcc', 'fcc', 'fcc', 'fcc', 'fcc', 'others', 'others', 'bcc', 'hcp', 'bcc', 'hcp', 'hcp', 'hcp']\n"
          ]
        }
      ]
    },
    {
      "cell_type": "markdown",
      "source": [
        "Creating a model"
      ],
      "metadata": {
        "id": "IXAkSyYHvDTE"
      }
    },
    {
      "cell_type": "code",
      "source": [
        "model=Sequential()\n",
        "model.add(Dense(units=4,activation='relu'))\n",
        "model.add(Dense(units=8,activation='relu'))\n",
        "model.add(Dense(units=4,activation='softmax'))"
      ],
      "metadata": {
        "id": "jLIQ35SQmNOt"
      },
      "execution_count": 28,
      "outputs": []
    },
    {
      "cell_type": "markdown",
      "source": [
        "Loss and Cost Functions"
      ],
      "metadata": {
        "id": "pf6OjBI-vRMx"
      }
    },
    {
      "cell_type": "code",
      "source": [
        "from tensorflow.keras.losses import sparse_categorical_crossentropy\n",
        "model.compile(loss=sparse_categorical_crossentropy,\n",
        "              optimizer=tf.keras.optimizers.Adam(0.001),\n",
        "              metrics=['accuracy']\n",
        ")\n",
        "trans=np.array(trans).reshape(-1,1)"
      ],
      "metadata": {
        "id": "gwMcOaI7mQ8G"
      },
      "execution_count": 29,
      "outputs": []
    },
    {
      "cell_type": "markdown",
      "source": [
        "Model Fitting"
      ],
      "metadata": {
        "id": "8V72yskTvfsy"
      }
    },
    {
      "cell_type": "code",
      "source": [
        "model.fit(X,trans,epochs=200)"
      ],
      "metadata": {
        "colab": {
          "base_uri": "https://localhost:8080/"
        },
        "id": "Ysm5UlNDmYBk",
        "outputId": "c3c8f01c-b14c-4a32-c1f2-4b9b0224645c"
      },
      "execution_count": 33,
      "outputs": [
        {
          "output_type": "stream",
          "name": "stdout",
          "text": [
            "Epoch 1/200\n",
            "2/2 [==============================] - 0s 8ms/step - loss: 1.3898 - accuracy: 0.3143\n",
            "Epoch 2/200\n",
            "2/2 [==============================] - 0s 7ms/step - loss: 1.3888 - accuracy: 0.3143\n",
            "Epoch 3/200\n",
            "2/2 [==============================] - 0s 8ms/step - loss: 1.3878 - accuracy: 0.3143\n",
            "Epoch 4/200\n",
            "2/2 [==============================] - 0s 7ms/step - loss: 1.3871 - accuracy: 0.3143\n",
            "Epoch 5/200\n",
            "2/2 [==============================] - 0s 7ms/step - loss: 1.3862 - accuracy: 0.3143\n",
            "Epoch 6/200\n",
            "2/2 [==============================] - 0s 7ms/step - loss: 1.3857 - accuracy: 0.3143\n",
            "Epoch 7/200\n",
            "2/2 [==============================] - 0s 8ms/step - loss: 1.3848 - accuracy: 0.3143\n",
            "Epoch 8/200\n",
            "2/2 [==============================] - 0s 7ms/step - loss: 1.3842 - accuracy: 0.3143\n",
            "Epoch 9/200\n",
            "2/2 [==============================] - 0s 6ms/step - loss: 1.3835 - accuracy: 0.3143\n",
            "Epoch 10/200\n",
            "2/2 [==============================] - 0s 8ms/step - loss: 1.3830 - accuracy: 0.3143\n",
            "Epoch 11/200\n",
            "2/2 [==============================] - 0s 9ms/step - loss: 1.3825 - accuracy: 0.3143\n",
            "Epoch 12/200\n",
            "2/2 [==============================] - 0s 8ms/step - loss: 1.3821 - accuracy: 0.3143\n",
            "Epoch 13/200\n",
            "2/2 [==============================] - 0s 8ms/step - loss: 1.3817 - accuracy: 0.3143\n",
            "Epoch 14/200\n",
            "2/2 [==============================] - 0s 8ms/step - loss: 1.3814 - accuracy: 0.3143\n",
            "Epoch 15/200\n",
            "2/2 [==============================] - 0s 8ms/step - loss: 1.3811 - accuracy: 0.3143\n",
            "Epoch 16/200\n",
            "2/2 [==============================] - 0s 7ms/step - loss: 1.3809 - accuracy: 0.3143\n",
            "Epoch 17/200\n",
            "2/2 [==============================] - 0s 8ms/step - loss: 1.3806 - accuracy: 0.3143\n",
            "Epoch 18/200\n",
            "2/2 [==============================] - 0s 8ms/step - loss: 1.3804 - accuracy: 0.3143\n",
            "Epoch 19/200\n",
            "2/2 [==============================] - 0s 7ms/step - loss: 1.3801 - accuracy: 0.3143\n",
            "Epoch 20/200\n",
            "2/2 [==============================] - 0s 13ms/step - loss: 1.3798 - accuracy: 0.3143\n",
            "Epoch 21/200\n",
            "2/2 [==============================] - 0s 8ms/step - loss: 1.3796 - accuracy: 0.3143\n",
            "Epoch 22/200\n",
            "2/2 [==============================] - 0s 8ms/step - loss: 1.3793 - accuracy: 0.3143\n",
            "Epoch 23/200\n",
            "2/2 [==============================] - 0s 8ms/step - loss: 1.3791 - accuracy: 0.3143\n",
            "Epoch 24/200\n",
            "2/2 [==============================] - 0s 8ms/step - loss: 1.3788 - accuracy: 0.3143\n",
            "Epoch 25/200\n",
            "2/2 [==============================] - 0s 8ms/step - loss: 1.3786 - accuracy: 0.3143\n",
            "Epoch 26/200\n",
            "2/2 [==============================] - 0s 8ms/step - loss: 1.3783 - accuracy: 0.3143\n",
            "Epoch 27/200\n",
            "2/2 [==============================] - 0s 8ms/step - loss: 1.3781 - accuracy: 0.3143\n",
            "Epoch 28/200\n",
            "2/2 [==============================] - 0s 8ms/step - loss: 1.3778 - accuracy: 0.3143\n",
            "Epoch 29/200\n",
            "2/2 [==============================] - 0s 9ms/step - loss: 1.3775 - accuracy: 0.3143\n",
            "Epoch 30/200\n",
            "2/2 [==============================] - 0s 8ms/step - loss: 1.3770 - accuracy: 0.3143\n",
            "Epoch 31/200\n",
            "2/2 [==============================] - 0s 8ms/step - loss: 1.3765 - accuracy: 0.3143\n",
            "Epoch 32/200\n",
            "2/2 [==============================] - 0s 7ms/step - loss: 1.3761 - accuracy: 0.3143\n",
            "Epoch 33/200\n",
            "2/2 [==============================] - 0s 8ms/step - loss: 1.3757 - accuracy: 0.3143\n",
            "Epoch 34/200\n",
            "2/2 [==============================] - 0s 8ms/step - loss: 1.3753 - accuracy: 0.3143\n",
            "Epoch 35/200\n",
            "2/2 [==============================] - 0s 8ms/step - loss: 1.3750 - accuracy: 0.3143\n",
            "Epoch 36/200\n",
            "2/2 [==============================] - 0s 8ms/step - loss: 1.3747 - accuracy: 0.3143\n",
            "Epoch 37/200\n",
            "2/2 [==============================] - 0s 8ms/step - loss: 1.3744 - accuracy: 0.3143\n",
            "Epoch 38/200\n",
            "2/2 [==============================] - 0s 8ms/step - loss: 1.3742 - accuracy: 0.3143\n",
            "Epoch 39/200\n",
            "2/2 [==============================] - 0s 12ms/step - loss: 1.3740 - accuracy: 0.3143\n",
            "Epoch 40/200\n",
            "2/2 [==============================] - 0s 9ms/step - loss: 1.3738 - accuracy: 0.3143\n",
            "Epoch 41/200\n",
            "2/2 [==============================] - 0s 8ms/step - loss: 1.3737 - accuracy: 0.3143\n",
            "Epoch 42/200\n",
            "2/2 [==============================] - 0s 8ms/step - loss: 1.3736 - accuracy: 0.3143\n",
            "Epoch 43/200\n",
            "2/2 [==============================] - 0s 8ms/step - loss: 1.3734 - accuracy: 0.3143\n",
            "Epoch 44/200\n",
            "2/2 [==============================] - 0s 7ms/step - loss: 1.3733 - accuracy: 0.3143\n",
            "Epoch 45/200\n",
            "2/2 [==============================] - 0s 8ms/step - loss: 1.3731 - accuracy: 0.3143\n",
            "Epoch 46/200\n",
            "2/2 [==============================] - 0s 9ms/step - loss: 1.3730 - accuracy: 0.3143\n",
            "Epoch 47/200\n",
            "2/2 [==============================] - 0s 8ms/step - loss: 1.3728 - accuracy: 0.3143\n",
            "Epoch 48/200\n",
            "2/2 [==============================] - 0s 8ms/step - loss: 1.3727 - accuracy: 0.3143\n",
            "Epoch 49/200\n",
            "2/2 [==============================] - 0s 8ms/step - loss: 1.3726 - accuracy: 0.3143\n",
            "Epoch 50/200\n",
            "2/2 [==============================] - 0s 7ms/step - loss: 1.3725 - accuracy: 0.3143\n",
            "Epoch 51/200\n",
            "2/2 [==============================] - 0s 8ms/step - loss: 1.3724 - accuracy: 0.3143\n",
            "Epoch 52/200\n",
            "2/2 [==============================] - 0s 8ms/step - loss: 1.3723 - accuracy: 0.3143\n",
            "Epoch 53/200\n",
            "2/2 [==============================] - 0s 8ms/step - loss: 1.3721 - accuracy: 0.3143\n",
            "Epoch 54/200\n",
            "2/2 [==============================] - 0s 9ms/step - loss: 1.3720 - accuracy: 0.3143\n",
            "Epoch 55/200\n",
            "2/2 [==============================] - 0s 8ms/step - loss: 1.3719 - accuracy: 0.3143\n",
            "Epoch 56/200\n",
            "2/2 [==============================] - 0s 7ms/step - loss: 1.3718 - accuracy: 0.3143\n",
            "Epoch 57/200\n",
            "2/2 [==============================] - 0s 8ms/step - loss: 1.3717 - accuracy: 0.3143\n",
            "Epoch 58/200\n",
            "2/2 [==============================] - 0s 8ms/step - loss: 1.3717 - accuracy: 0.3143\n",
            "Epoch 59/200\n",
            "2/2 [==============================] - 0s 9ms/step - loss: 1.3717 - accuracy: 0.3143\n",
            "Epoch 60/200\n",
            "2/2 [==============================] - 0s 8ms/step - loss: 1.3716 - accuracy: 0.3143\n",
            "Epoch 61/200\n",
            "2/2 [==============================] - 0s 8ms/step - loss: 1.3717 - accuracy: 0.3143\n",
            "Epoch 62/200\n",
            "2/2 [==============================] - 0s 8ms/step - loss: 1.3716 - accuracy: 0.3143\n",
            "Epoch 63/200\n",
            "2/2 [==============================] - 0s 7ms/step - loss: 1.3716 - accuracy: 0.3143\n",
            "Epoch 64/200\n",
            "2/2 [==============================] - 0s 8ms/step - loss: 1.3714 - accuracy: 0.3143\n",
            "Epoch 65/200\n",
            "2/2 [==============================] - 0s 8ms/step - loss: 1.3710 - accuracy: 0.3143\n",
            "Epoch 66/200\n",
            "2/2 [==============================] - 0s 9ms/step - loss: 1.3707 - accuracy: 0.3143\n",
            "Epoch 67/200\n",
            "2/2 [==============================] - 0s 9ms/step - loss: 1.3703 - accuracy: 0.3143\n",
            "Epoch 68/200\n",
            "2/2 [==============================] - 0s 8ms/step - loss: 1.3699 - accuracy: 0.3143\n",
            "Epoch 69/200\n",
            "2/2 [==============================] - 0s 8ms/step - loss: 1.3696 - accuracy: 0.3143\n",
            "Epoch 70/200\n",
            "2/2 [==============================] - 0s 8ms/step - loss: 1.3693 - accuracy: 0.3143\n",
            "Epoch 71/200\n",
            "2/2 [==============================] - 0s 8ms/step - loss: 1.3690 - accuracy: 0.3143\n",
            "Epoch 72/200\n",
            "2/2 [==============================] - 0s 8ms/step - loss: 1.3687 - accuracy: 0.3143\n",
            "Epoch 73/200\n",
            "2/2 [==============================] - 0s 8ms/step - loss: 1.3682 - accuracy: 0.3143\n",
            "Epoch 74/200\n",
            "2/2 [==============================] - 0s 8ms/step - loss: 1.3680 - accuracy: 0.3143\n",
            "Epoch 75/200\n",
            "2/2 [==============================] - 0s 8ms/step - loss: 1.3677 - accuracy: 0.3143\n",
            "Epoch 76/200\n",
            "2/2 [==============================] - 0s 8ms/step - loss: 1.3671 - accuracy: 0.3143\n",
            "Epoch 77/200\n",
            "2/2 [==============================] - 0s 9ms/step - loss: 1.3668 - accuracy: 0.3143\n",
            "Epoch 78/200\n",
            "2/2 [==============================] - 0s 8ms/step - loss: 1.3665 - accuracy: 0.3143\n",
            "Epoch 79/200\n",
            "2/2 [==============================] - 0s 7ms/step - loss: 1.3663 - accuracy: 0.3143\n",
            "Epoch 80/200\n",
            "2/2 [==============================] - 0s 7ms/step - loss: 1.3661 - accuracy: 0.3143\n",
            "Epoch 81/200\n",
            "2/2 [==============================] - 0s 8ms/step - loss: 1.3659 - accuracy: 0.3143\n",
            "Epoch 82/200\n",
            "2/2 [==============================] - 0s 9ms/step - loss: 1.3657 - accuracy: 0.3143\n",
            "Epoch 83/200\n",
            "2/2 [==============================] - 0s 9ms/step - loss: 1.3655 - accuracy: 0.3143\n",
            "Epoch 84/200\n",
            "2/2 [==============================] - 0s 8ms/step - loss: 1.3654 - accuracy: 0.3143\n",
            "Epoch 85/200\n",
            "2/2 [==============================] - 0s 8ms/step - loss: 1.3652 - accuracy: 0.3143\n",
            "Epoch 86/200\n",
            "2/2 [==============================] - 0s 9ms/step - loss: 1.3650 - accuracy: 0.3143\n",
            "Epoch 87/200\n",
            "2/2 [==============================] - 0s 9ms/step - loss: 1.3648 - accuracy: 0.3143\n",
            "Epoch 88/200\n",
            "2/2 [==============================] - 0s 9ms/step - loss: 1.3645 - accuracy: 0.3143\n",
            "Epoch 89/200\n",
            "2/2 [==============================] - 0s 8ms/step - loss: 1.3643 - accuracy: 0.3143\n",
            "Epoch 90/200\n",
            "2/2 [==============================] - 0s 9ms/step - loss: 1.3640 - accuracy: 0.3143\n",
            "Epoch 91/200\n",
            "2/2 [==============================] - 0s 8ms/step - loss: 1.3638 - accuracy: 0.3143\n",
            "Epoch 92/200\n",
            "2/2 [==============================] - 0s 8ms/step - loss: 1.3636 - accuracy: 0.3143\n",
            "Epoch 93/200\n",
            "2/2 [==============================] - 0s 8ms/step - loss: 1.3635 - accuracy: 0.3143\n",
            "Epoch 94/200\n",
            "2/2 [==============================] - 0s 8ms/step - loss: 1.3633 - accuracy: 0.3143\n",
            "Epoch 95/200\n",
            "2/2 [==============================] - 0s 8ms/step - loss: 1.3632 - accuracy: 0.3143\n",
            "Epoch 96/200\n",
            "2/2 [==============================] - 0s 8ms/step - loss: 1.3630 - accuracy: 0.3143\n",
            "Epoch 97/200\n",
            "2/2 [==============================] - 0s 9ms/step - loss: 1.3629 - accuracy: 0.3143\n",
            "Epoch 98/200\n",
            "2/2 [==============================] - 0s 8ms/step - loss: 1.3627 - accuracy: 0.3143\n",
            "Epoch 99/200\n",
            "2/2 [==============================] - 0s 8ms/step - loss: 1.3626 - accuracy: 0.3143\n",
            "Epoch 100/200\n",
            "2/2 [==============================] - 0s 11ms/step - loss: 1.3623 - accuracy: 0.3143\n",
            "Epoch 101/200\n",
            "2/2 [==============================] - 0s 13ms/step - loss: 1.3622 - accuracy: 0.3143\n",
            "Epoch 102/200\n",
            "2/2 [==============================] - 0s 9ms/step - loss: 1.3621 - accuracy: 0.3143\n",
            "Epoch 103/200\n",
            "2/2 [==============================] - 0s 10ms/step - loss: 1.3620 - accuracy: 0.3143\n",
            "Epoch 104/200\n",
            "2/2 [==============================] - 0s 9ms/step - loss: 1.3618 - accuracy: 0.3143\n",
            "Epoch 105/200\n",
            "2/2 [==============================] - 0s 8ms/step - loss: 1.3618 - accuracy: 0.3143\n",
            "Epoch 106/200\n",
            "2/2 [==============================] - 0s 9ms/step - loss: 1.3617 - accuracy: 0.3143\n",
            "Epoch 107/200\n",
            "2/2 [==============================] - 0s 8ms/step - loss: 1.3616 - accuracy: 0.3143\n",
            "Epoch 108/200\n",
            "2/2 [==============================] - 0s 8ms/step - loss: 1.3615 - accuracy: 0.3143\n",
            "Epoch 109/200\n",
            "2/2 [==============================] - 0s 8ms/step - loss: 1.3614 - accuracy: 0.3143\n",
            "Epoch 110/200\n",
            "2/2 [==============================] - 0s 10ms/step - loss: 1.3613 - accuracy: 0.3143\n",
            "Epoch 111/200\n",
            "2/2 [==============================] - 0s 8ms/step - loss: 1.3612 - accuracy: 0.3143\n",
            "Epoch 112/200\n",
            "2/2 [==============================] - 0s 9ms/step - loss: 1.3611 - accuracy: 0.3143\n",
            "Epoch 113/200\n",
            "2/2 [==============================] - 0s 8ms/step - loss: 1.3610 - accuracy: 0.3143\n",
            "Epoch 114/200\n",
            "2/2 [==============================] - 0s 10ms/step - loss: 1.3610 - accuracy: 0.3143\n",
            "Epoch 115/200\n",
            "2/2 [==============================] - 0s 11ms/step - loss: 1.3609 - accuracy: 0.3143\n",
            "Epoch 116/200\n",
            "2/2 [==============================] - 0s 8ms/step - loss: 1.3608 - accuracy: 0.3143\n",
            "Epoch 117/200\n",
            "2/2 [==============================] - 0s 8ms/step - loss: 1.3607 - accuracy: 0.3143\n",
            "Epoch 118/200\n",
            "2/2 [==============================] - 0s 8ms/step - loss: 1.3606 - accuracy: 0.3143\n",
            "Epoch 119/200\n",
            "2/2 [==============================] - 0s 8ms/step - loss: 1.3605 - accuracy: 0.3143\n",
            "Epoch 120/200\n",
            "2/2 [==============================] - 0s 7ms/step - loss: 1.3604 - accuracy: 0.3143\n",
            "Epoch 121/200\n",
            "2/2 [==============================] - 0s 8ms/step - loss: 1.3603 - accuracy: 0.3143\n",
            "Epoch 122/200\n",
            "2/2 [==============================] - 0s 8ms/step - loss: 1.3603 - accuracy: 0.3143\n",
            "Epoch 123/200\n",
            "2/2 [==============================] - 0s 8ms/step - loss: 1.3602 - accuracy: 0.3143\n",
            "Epoch 124/200\n",
            "2/2 [==============================] - 0s 8ms/step - loss: 1.3600 - accuracy: 0.3143\n",
            "Epoch 125/200\n",
            "2/2 [==============================] - 0s 8ms/step - loss: 1.3599 - accuracy: 0.3143\n",
            "Epoch 126/200\n",
            "2/2 [==============================] - 0s 8ms/step - loss: 1.3597 - accuracy: 0.3143\n",
            "Epoch 127/200\n",
            "2/2 [==============================] - 0s 8ms/step - loss: 1.3595 - accuracy: 0.3143\n",
            "Epoch 128/200\n",
            "2/2 [==============================] - 0s 10ms/step - loss: 1.3594 - accuracy: 0.3143\n",
            "Epoch 129/200\n",
            "2/2 [==============================] - 0s 12ms/step - loss: 1.3592 - accuracy: 0.3143\n",
            "Epoch 130/200\n",
            "2/2 [==============================] - 0s 12ms/step - loss: 1.3591 - accuracy: 0.3143\n",
            "Epoch 131/200\n",
            "2/2 [==============================] - 0s 12ms/step - loss: 1.3589 - accuracy: 0.3143\n",
            "Epoch 132/200\n",
            "2/2 [==============================] - 0s 8ms/step - loss: 1.3587 - accuracy: 0.3143\n",
            "Epoch 133/200\n",
            "2/2 [==============================] - 0s 8ms/step - loss: 1.3585 - accuracy: 0.3143\n",
            "Epoch 134/200\n",
            "2/2 [==============================] - 0s 8ms/step - loss: 1.3583 - accuracy: 0.3143\n",
            "Epoch 135/200\n",
            "2/2 [==============================] - 0s 8ms/step - loss: 1.3581 - accuracy: 0.3143\n",
            "Epoch 136/200\n",
            "2/2 [==============================] - 0s 8ms/step - loss: 1.3580 - accuracy: 0.3143\n",
            "Epoch 137/200\n",
            "2/2 [==============================] - 0s 9ms/step - loss: 1.3578 - accuracy: 0.3143\n",
            "Epoch 138/200\n",
            "2/2 [==============================] - 0s 9ms/step - loss: 1.3576 - accuracy: 0.3143\n",
            "Epoch 139/200\n",
            "2/2 [==============================] - 0s 8ms/step - loss: 1.3574 - accuracy: 0.3143\n",
            "Epoch 140/200\n",
            "2/2 [==============================] - 0s 10ms/step - loss: 1.3573 - accuracy: 0.3143\n",
            "Epoch 141/200\n",
            "2/2 [==============================] - 0s 9ms/step - loss: 1.3571 - accuracy: 0.3143\n",
            "Epoch 142/200\n",
            "2/2 [==============================] - 0s 9ms/step - loss: 1.3570 - accuracy: 0.3143\n",
            "Epoch 143/200\n",
            "2/2 [==============================] - 0s 11ms/step - loss: 1.3569 - accuracy: 0.3143\n",
            "Epoch 144/200\n",
            "2/2 [==============================] - 0s 9ms/step - loss: 1.3568 - accuracy: 0.3143\n",
            "Epoch 145/200\n",
            "2/2 [==============================] - 0s 10ms/step - loss: 1.3567 - accuracy: 0.3143\n",
            "Epoch 146/200\n",
            "2/2 [==============================] - 0s 8ms/step - loss: 1.3565 - accuracy: 0.3143\n",
            "Epoch 147/200\n",
            "2/2 [==============================] - 0s 9ms/step - loss: 1.3565 - accuracy: 0.3143\n",
            "Epoch 148/200\n",
            "2/2 [==============================] - 0s 11ms/step - loss: 1.3563 - accuracy: 0.3143\n",
            "Epoch 149/200\n",
            "2/2 [==============================] - 0s 8ms/step - loss: 1.3563 - accuracy: 0.3143\n",
            "Epoch 150/200\n",
            "2/2 [==============================] - 0s 8ms/step - loss: 1.3562 - accuracy: 0.3143\n",
            "Epoch 151/200\n",
            "2/2 [==============================] - 0s 8ms/step - loss: 1.3561 - accuracy: 0.3143\n",
            "Epoch 152/200\n",
            "2/2 [==============================] - 0s 9ms/step - loss: 1.3561 - accuracy: 0.3143\n",
            "Epoch 153/200\n",
            "2/2 [==============================] - 0s 9ms/step - loss: 1.3561 - accuracy: 0.3143\n",
            "Epoch 154/200\n",
            "2/2 [==============================] - 0s 9ms/step - loss: 1.3560 - accuracy: 0.3143\n",
            "Epoch 155/200\n",
            "2/2 [==============================] - 0s 9ms/step - loss: 1.3559 - accuracy: 0.3143\n",
            "Epoch 156/200\n",
            "2/2 [==============================] - 0s 10ms/step - loss: 1.3559 - accuracy: 0.3143\n",
            "Epoch 157/200\n",
            "2/2 [==============================] - 0s 10ms/step - loss: 1.3558 - accuracy: 0.3143\n",
            "Epoch 158/200\n",
            "2/2 [==============================] - 0s 9ms/step - loss: 1.3557 - accuracy: 0.3143\n",
            "Epoch 159/200\n",
            "2/2 [==============================] - 0s 9ms/step - loss: 1.3557 - accuracy: 0.3143\n",
            "Epoch 160/200\n",
            "2/2 [==============================] - 0s 8ms/step - loss: 1.3555 - accuracy: 0.3143\n",
            "Epoch 161/200\n",
            "2/2 [==============================] - 0s 9ms/step - loss: 1.3553 - accuracy: 0.3143\n",
            "Epoch 162/200\n",
            "2/2 [==============================] - 0s 8ms/step - loss: 1.3552 - accuracy: 0.3143\n",
            "Epoch 163/200\n",
            "2/2 [==============================] - 0s 11ms/step - loss: 1.3550 - accuracy: 0.3143\n",
            "Epoch 164/200\n",
            "2/2 [==============================] - 0s 8ms/step - loss: 1.3549 - accuracy: 0.3143\n",
            "Epoch 165/200\n",
            "2/2 [==============================] - 0s 8ms/step - loss: 1.3548 - accuracy: 0.3143\n",
            "Epoch 166/200\n",
            "2/2 [==============================] - 0s 8ms/step - loss: 1.3547 - accuracy: 0.3143\n",
            "Epoch 167/200\n",
            "2/2 [==============================] - 0s 8ms/step - loss: 1.3545 - accuracy: 0.3143\n",
            "Epoch 168/200\n",
            "2/2 [==============================] - 0s 9ms/step - loss: 1.3545 - accuracy: 0.3143\n",
            "Epoch 169/200\n",
            "2/2 [==============================] - 0s 8ms/step - loss: 1.3544 - accuracy: 0.3143\n",
            "Epoch 170/200\n",
            "2/2 [==============================] - 0s 8ms/step - loss: 1.3544 - accuracy: 0.3143\n",
            "Epoch 171/200\n",
            "2/2 [==============================] - 0s 8ms/step - loss: 1.3543 - accuracy: 0.3143\n",
            "Epoch 172/200\n",
            "2/2 [==============================] - 0s 8ms/step - loss: 1.3542 - accuracy: 0.3143\n",
            "Epoch 173/200\n",
            "2/2 [==============================] - 0s 8ms/step - loss: 1.3540 - accuracy: 0.3143\n",
            "Epoch 174/200\n",
            "2/2 [==============================] - 0s 8ms/step - loss: 1.3539 - accuracy: 0.3143\n",
            "Epoch 175/200\n",
            "2/2 [==============================] - 0s 8ms/step - loss: 1.3539 - accuracy: 0.3143\n",
            "Epoch 176/200\n",
            "2/2 [==============================] - 0s 9ms/step - loss: 1.3537 - accuracy: 0.3143\n",
            "Epoch 177/200\n",
            "2/2 [==============================] - 0s 9ms/step - loss: 1.3536 - accuracy: 0.3143\n",
            "Epoch 178/200\n",
            "2/2 [==============================] - 0s 8ms/step - loss: 1.3536 - accuracy: 0.3143\n",
            "Epoch 179/200\n",
            "2/2 [==============================] - 0s 8ms/step - loss: 1.3533 - accuracy: 0.3143\n",
            "Epoch 180/200\n",
            "2/2 [==============================] - 0s 8ms/step - loss: 1.3532 - accuracy: 0.3143\n",
            "Epoch 181/200\n",
            "2/2 [==============================] - 0s 8ms/step - loss: 1.3531 - accuracy: 0.3143\n",
            "Epoch 182/200\n",
            "2/2 [==============================] - 0s 8ms/step - loss: 1.3529 - accuracy: 0.3143\n",
            "Epoch 183/200\n",
            "2/2 [==============================] - 0s 8ms/step - loss: 1.3528 - accuracy: 0.3143\n",
            "Epoch 184/200\n",
            "2/2 [==============================] - 0s 8ms/step - loss: 1.3527 - accuracy: 0.3143\n",
            "Epoch 185/200\n",
            "2/2 [==============================] - 0s 8ms/step - loss: 1.3525 - accuracy: 0.3143\n",
            "Epoch 186/200\n",
            "2/2 [==============================] - 0s 8ms/step - loss: 1.3523 - accuracy: 0.3143\n",
            "Epoch 187/200\n",
            "2/2 [==============================] - 0s 8ms/step - loss: 1.3522 - accuracy: 0.3143\n",
            "Epoch 188/200\n",
            "2/2 [==============================] - 0s 8ms/step - loss: 1.3520 - accuracy: 0.3143\n",
            "Epoch 189/200\n",
            "2/2 [==============================] - 0s 8ms/step - loss: 1.3519 - accuracy: 0.3143\n",
            "Epoch 190/200\n",
            "2/2 [==============================] - 0s 8ms/step - loss: 1.3518 - accuracy: 0.3143\n",
            "Epoch 191/200\n",
            "2/2 [==============================] - 0s 10ms/step - loss: 1.3517 - accuracy: 0.3143\n",
            "Epoch 192/200\n",
            "2/2 [==============================] - 0s 10ms/step - loss: 1.3516 - accuracy: 0.3143\n",
            "Epoch 193/200\n",
            "2/2 [==============================] - 0s 8ms/step - loss: 1.3515 - accuracy: 0.3143\n",
            "Epoch 194/200\n",
            "2/2 [==============================] - 0s 9ms/step - loss: 1.3515 - accuracy: 0.3143\n",
            "Epoch 195/200\n",
            "2/2 [==============================] - 0s 8ms/step - loss: 1.3514 - accuracy: 0.3143\n",
            "Epoch 196/200\n",
            "2/2 [==============================] - 0s 8ms/step - loss: 1.3513 - accuracy: 0.3143\n",
            "Epoch 197/200\n",
            "2/2 [==============================] - 0s 10ms/step - loss: 1.3513 - accuracy: 0.3143\n",
            "Epoch 198/200\n",
            "2/2 [==============================] - 0s 9ms/step - loss: 1.3512 - accuracy: 0.3143\n",
            "Epoch 199/200\n",
            "2/2 [==============================] - 0s 9ms/step - loss: 1.3511 - accuracy: 0.3143\n",
            "Epoch 200/200\n",
            "2/2 [==============================] - 0s 8ms/step - loss: 1.3509 - accuracy: 0.3143\n"
          ]
        },
        {
          "output_type": "execute_result",
          "data": {
            "text/plain": [
              "<keras.src.callbacks.History at 0x7ed984293520>"
            ]
          },
          "metadata": {},
          "execution_count": 33
        }
      ]
    },
    {
      "cell_type": "markdown",
      "source": [
        "Model Prediction"
      ],
      "metadata": {
        "id": "YqYR_RFbvldW"
      }
    },
    {
      "cell_type": "code",
      "source": [
        "atm=int(input(\"Enter atomic number of the element\"))\n",
        "ecoh=int(input(\"Enter cohesive energy of the element\"))\n",
        "vec=int(input(\"Enter valence electrons of the element\"))\n",
        "per=int(input(\"Enter per of the element\"))\n",
        "\n",
        "Y_pred=model.predict([[atm,ecoh,vec,per]])\n",
        "print(Y_pred)\n",
        "Y_pred=np.argmax(Y_pred)\n",
        "Y_pred=np.array(Y_pred).reshape(1,-1)\n",
        "ans=list(le.inverse_transform(Y_pred))\n",
        "print(ans)"
      ],
      "metadata": {
        "colab": {
          "base_uri": "https://localhost:8080/"
        },
        "id": "E5I5lLHtmduz",
        "outputId": "1b25e99b-4582-4bea-a2ac-325b9ee33e23"
      },
      "execution_count": 42,
      "outputs": [
        {
          "output_type": "stream",
          "name": "stdout",
          "text": [
            "Enter atomic number of the element80\n",
            "Enter cohesive energy of the element74\n",
            "Enter valence electrons of the element2\n",
            "Enter per of the element6\n",
            "1/1 [==============================] - 0s 40ms/step\n",
            "[[1.1118935e-15 1.9950803e-02 2.7181362e-09 9.8004925e-01]]\n",
            "['others']\n"
          ]
        },
        {
          "output_type": "stream",
          "name": "stderr",
          "text": [
            "/usr/local/lib/python3.10/dist-packages/sklearn/preprocessing/_label.py:155: DataConversionWarning: A column-vector y was passed when a 1d array was expected. Please change the shape of y to (n_samples, ), for example using ravel().\n",
            "  y = column_or_1d(y, warn=True)\n"
          ]
        }
      ]
    },
    {
      "cell_type": "markdown",
      "source": [],
      "metadata": {
        "id": "uG-0X07IuvA1"
      }
    }
  ]
}